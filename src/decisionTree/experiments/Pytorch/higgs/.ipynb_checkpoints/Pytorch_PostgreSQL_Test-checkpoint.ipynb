{
 "cells": [
  {
   "cell_type": "code",
   "execution_count": 1,
   "id": "ad830a55",
   "metadata": {},
   "outputs": [],
   "source": [
    "import pandas\n",
    "import pickle\n",
    "import joblib\n",
    "import torch\n",
    "import torchvision\n",
    "from hummingbird.ml import convert\n",
    "\n",
    "filename = 'rf-10-8-6.pkl'\n",
    "loaded_model = joblib.load(filename)\n",
    "model = convert(loaded_model,'pytorch')"
   ]
  },
  {
   "cell_type": "code",
   "execution_count": 2,
   "id": "2097aa85",
   "metadata": {},
   "outputs": [],
   "source": [
    "import psycopg2\n",
    "\n",
    "t_host = \"localhost\"\n",
    "t_port = \"5432\"\n",
    "t_dbname = \"postgres\"\n",
    "t_user = \"postgres\"\n",
    "t_pw = \"postgres\"\n",
    "db_conn = psycopg2.connect(host=t_host, port=t_port, dbname=t_dbname, user=t_user, password=t_pw)\n",
    "db_cursor = db_conn.cursor()"
   ]
  },
  {
   "cell_type": "code",
   "execution_count": 3,
   "id": "39200fc2",
   "metadata": {},
   "outputs": [
    {
     "name": "stdout",
     "output_type": "stream",
     "text": [
      "time cost 54.98099327087402 ms\n"
     ]
    }
   ],
   "source": [
    "import numpy\n",
    "import time\n",
    "\n",
    "input_size = 11000\n",
    "batch_size = 1000\n",
    "\n",
    "total_time = 0\n",
    "\n",
    "try:\n",
    "    for i in range(int(input_size/batch_size)):\n",
    "        db_cursor.execute(\"SELECT leptonpT,leptoneta,leptonphi,missingenergymagnitude,missingenergyphi,\"+\n",
    "                          \"jet1pt,jet1eta,jet1phi,jet1btag,jet2pt,jet2eta,jet2phi,jet2btag,jet3pt,jet3eta,\"+\n",
    "                          \"jet3phi,jet3btag,jet4pt,jet4eta,jet4phi,jet4btag,mjj,mjjj,mlv,mjlv,mbb,mwbb,mwwbb from higgs;\")\n",
    "        some_tuple = db_cursor.fetchmany(batch_size)\n",
    "        time_start = time.time()\n",
    "        pred = model.predict(some_tuple)\n",
    "        time_end=time.time()\n",
    "        total_time = total_time + (time_end-time_start)\n",
    "except psycopg2.Error as e:\n",
    "    t_message = \"Postgres Database error: \" + e + \"/n\"\n",
    "    \n",
    "print('time cost',total_time*1000,'ms')"
   ]
  },
  {
   "cell_type": "code",
   "execution_count": null,
   "id": "2aba22bd",
   "metadata": {},
   "outputs": [],
   "source": []
  }
 ],
 "metadata": {
  "kernelspec": {
   "display_name": "Python 3",
   "language": "python",
   "name": "python3"
  },
  "language_info": {
   "codemirror_mode": {
    "name": "ipython",
    "version": 3
   },
   "file_extension": ".py",
   "mimetype": "text/x-python",
   "name": "python",
   "nbconvert_exporter": "python",
   "pygments_lexer": "ipython3",
   "version": "3.8.8"
  }
 },
 "nbformat": 4,
 "nbformat_minor": 5
}
